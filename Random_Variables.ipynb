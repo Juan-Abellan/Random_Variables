{
 "cells": [
  {
   "cell_type": "markdown",
   "id": "b591e3dd",
   "metadata": {},
   "source": [
    "# Random Variables"
   ]
  },
  {
   "cell_type": "code",
   "execution_count": 1,
   "id": "78c39de6",
   "metadata": {},
   "outputs": [],
   "source": [
    "# --- Math and Data Manipulation\n",
    "import numpy as np\n",
    "import math\n",
    "\n",
    "# --- Data Visualisation\n",
    "import matplotlib.pyplot as plt\n",
    "from matplotlib import colors\n",
    "import seaborn as sns"
   ]
  },
  {
   "cell_type": "markdown",
   "id": "e70dbdf6",
   "metadata": {},
   "source": [
    "## Bernoulli and Binomial distributions"
   ]
  },
  {
   "cell_type": "markdown",
   "id": "ead3f59d",
   "metadata": {},
   "source": [
    "### Flipping a coin multiple times"
   ]
  },
  {
   "cell_type": "markdown",
   "id": "6a26cb5b",
   "metadata": {},
   "source": [
    "Quick reminder : \n",
    "* a probability equal to 0 (= 0%) means that an event will _never occur_\n",
    "* a probability equal to 1 (= 100%)  means that an event will _happen for sure_.\n",
    "\n",
    "Suppose that we **`flip a coin 4 times`** \n",
    "\n",
    "Can you answer the following ***questions*** \n",
    "1. How many possible outcomes do we have?\n",
    "2. What is the probability of getting 4 heads?\n",
    "3. What is the probability of getting exactly 2 heads and 2 tails?\n",
    "\n",
    "Take your time to grab a pen and a piece of paper to answer these questions. You can draw a `tree` to help you answers these questions.\n",
    "\n",
    "\n",
    "\n",
    "<i>Think about the possible results of each flip: it is either a **head** (1) or a **tail** (0)</i>\n"
   ]
  },
  {
   "cell_type": "markdown",
   "id": "5d29125a",
   "metadata": {},
   "source": [
    "> ***1.*** How many possible outcomes do we have when flipping a coin 4 times ? \n",
    "\n",
    "There are $16 = 2 \\times 2 \\times 2 \\times 2 = 2^4$ possible outcomes.\n",
    "\n",
    "| Flip 1 | Flip 2 | Flip 3 | Flip 4 |\n",
    "|:--------:|:--------:|:--------:|:------:|\n",
    "| 1      | 1      | 1      | 1      |\n",
    "| 1      | 1      | 1      | 0      |\n",
    "| 1      | 1      | 0      | 1      |\n",
    "| 1      | 1      | 0      | 0      |\n",
    "| 1      | 0      | 1      | 1      |\n",
    "| 1      | 0      | 1      | 0      |\n",
    "| 1      | 0      | 0      | 1      |\n",
    "| 1      | 0      | 0      | 0      |\n",
    "| 0      | 1      | 1      | 1      |\n",
    "| 0      | 1      | 1      | 0      |\n",
    "| 0      | 1      | 0      | 1      |\n",
    "| 0      | 1      | 0      | 0      |\n",
    "| 0      | 0      | 1      | 1      |\n",
    "| 0      | 0      | 1      | 0      |\n",
    "| 0      | 0      | 0      | 1      |\n",
    "| 0      | 0      | 0      | 0      |\n",
    "\n",
    "    \n",
    "> ***2.*** What is the probability of getting 4 heads?\n",
    "\n",
    "There is only  1 way of getting 4 heads (and hence no tails).\n",
    "\n",
    "| Flip 1 | Flip 2 | Flip 3 | Flip 4 |\n",
    "|:--------:|:--------:|:--------:|:------:|\n",
    "| 1      | 1      | 1      | 1      |\n",
    "\n",
    "Let's call __A__ the event of getting exactly 4 heads.  The probability of A is:\n",
    "\n",
    "$$ P(A) = \\frac{1}{16} = 0.0625 = 6.25 \\% $$\n",
    "\n",
    "\n",
    "> ***3.*** What is the probability of getting exactly 2 heads and 2 tails?\n",
    "\n",
    "There are 6 ways of getting 2 heads (and hence 2 tails).\n",
    "\n",
    "| Flip 1 | Flip 2 | Flip 3 | Flip 4 |\n",
    "|:--------:|:--------:|:--------:|:------:|\n",
    "| 1      | 1      | 0      | 0      |\n",
    "| 1      | 0      | 1      | 0      |\n",
    "| 1      | 0      | 0      | 1      |\n",
    "| 0      | 1      | 1      | 0      |\n",
    "| 0      | 1      | 0      | 1      |\n",
    "| 0      | 0      | 1      | 1      |\n",
    "\n",
    "\n",
    "Let's call __B__ the event of getting exactly 2 heads and 2 tails. The probability of B is:\n",
    "\n",
    "$$ P(B) = \\frac{6}{16} = 0.375 = 37.5 \\% $$"
   ]
  },
  {
   "cell_type": "markdown",
   "id": "4b4f5e48",
   "metadata": {},
   "source": [
    "Visual representation of this 4-coin experiment\n",
    "\n",
    "<img src=\"https://wagon-public-datasets.s3.amazonaws.com/data-science-images/math/toss_a_coin_four_times.jpeg\">\n"
   ]
  },
  {
   "cell_type": "markdown",
   "id": "f9b72968",
   "metadata": {},
   "source": [
    "### A bit of theory about Binomial distributions (reading section)"
   ]
  },
  {
   "cell_type": "markdown",
   "id": "2407fb67",
   "metadata": {},
   "source": [
    "With 4 flips, we can count the possibilities of the different scenarios \"manually\", but how would you do that with 200 flips \n",
    "\n",
    "**The context**:\n",
    "\n",
    "- We are running an experiment $n$ times\n",
    "- Each experiment has a probability $ p \\in [0,1] $ of **success** ($ \\Leftrightarrow $ a probability $ 1 - p $ of **failure**) \n",
    "\n",
    "In the context of a **fair coin**, we obviously have $ p = 1 - p = 50 \\% = 0.5 $\n",
    "\n",
    "<u>Vocabulary:</u>\n",
    "* An experiment with only two outcomes (success/failure) has a **Bernoulli (p) distribution**.\n",
    "* When we repeat this Bernoulli process n times and count the numbers success $X$, we talk about a **Binomial (n,p) distribution**.\n",
    "\n",
    "\n",
    "\n",
    "**Counting the number of \"successes\" among n repeated experiments**:\n",
    "\n",
    "Counting the number of ways to get $k$ heads (the successes) among $n$ flips (the repeated experiment) ...\n",
    "\n",
    "...is equivalent to counting the number of ways to select $k$ items from a set that has $n$ distinct elements, *such that the order of selection does not matter*\n",
    "\n",
    "- If the order mattered, picking $k$ elements *one-by-one* among $n$ could be done in $n(n−1)...(n−k+1)$ ways ($n$ choice for the first element, $n-1$ for the second, ..., $n−k+1$ for the $k$-th )\n",
    "\n",
    "- However, in this ordered count, any *unordered set* of $k$ elements have been counted $k(k-1)(k-2)...$ times ($k$ choice for the first, $k-1$ for the second, etc...)\n",
    "\n",
    "- Therefore, if we want the *unordered* count, we have to compensate for (divide by) them. Hence, **the number of ways to get k successes out of n experiments** is given by:\n",
    "\n",
    "$${\\frac {n(n-1)\\dotsb (n-k+1)}{k(k-1)\\dotsb 1}}$$\n",
    "\n",
    "This is mathematically equivalent to:\n",
    "\n",
    "$$ \\frac{n!}{k! (n - k)!} \\text{ , where  } n! = 1\\times 2 \\times ... \\times n $$\n",
    "\n",
    "and is written\n",
    "\n",
    "$$ \\binom{n}{k} $$\n",
    "\n",
    "\n",
    "\n",
    "* $ \\binom{n}{k} $ reads as `\"n choose k\"`, or `\"binomial coefficient for k among n\"` \n",
    "* $ n!$ reads as `\"n factorial\"` \n",
    "\n",
    "[Read This](https://www.mathsisfun.com/combinatorics/combinations-permutations.html)  and discuss about **permutations** and **combinations** with your buddy.\n",
    "\n",
    "(_stop before the \"Pascal triangle\" section_)\n",
    "\n"
   ]
  },
  {
   "cell_type": "markdown",
   "id": "d7516c0f",
   "metadata": {},
   "source": [
    "### Implementing the theory"
   ]
  },
  {
   "cell_type": "markdown",
   "id": "b252169e",
   "metadata": {},
   "source": [
    "A general principle for \"easy\" situations like cards, coins, dice is to compute the probability of an event as follows: $$ probability = \\frac{possibilities}{all.the.possibilities} $$\n",
    "\n",
    "Let's implement the functions `count_possibilities`, `count_total_possibilities` and  then`probability` down below ❓\n",
    "\n",
    "* <i>Hint</i>: Use 📚 [`math.factorial()`](https://docs.python.org/3/library/math.html)"
   ]
  },
  {
   "cell_type": "code",
   "execution_count": 7,
   "id": "7c3a8dcb",
   "metadata": {},
   "outputs": [
    {
     "name": "stdout",
     "output_type": "stream",
     "text": [
      "\n",
      "count_possibilities(n_toss=3, n_heads=1) = 3.0\n",
      "\n"
     ]
    }
   ],
   "source": [
    "def count_possibilities(n_toss, n_heads):\n",
    "    '''return the number of possibilities to get n_heads when flipping the coin n_toss times\n",
    "    Ex: count_possibilities(4, 4)  = 1'''\n",
    "    \n",
    "    return math.factorial(n_toss) / (math.factorial(n_heads) * math.factorial(n_toss - n_heads))\n",
    "\n",
    "print(f\"\"\"\n",
    "{count_possibilities(n_toss=3, n_heads=1) = }\n",
    "\"\"\")"
   ]
  },
  {
   "cell_type": "code",
   "execution_count": 10,
   "id": "e5f868ef",
   "metadata": {},
   "outputs": [
    {
     "name": "stdout",
     "output_type": "stream",
     "text": [
      "\n",
      "count_total_possibilities(n_toss=2) = 4\n",
      "\n"
     ]
    }
   ],
   "source": [
    "def count_total_possibilities(n_toss):\n",
    "    '''return the total amount of different combinations when flipping the coins n_toss times\n",
    "    Ex: count_total_possibilities(3) = 8'''\n",
    "    \n",
    "    return 2**n_toss\n",
    "\n",
    "print(f\"\"\"\n",
    "{count_total_possibilities(n_toss=2) = }\n",
    "\"\"\")"
   ]
  },
  {
   "cell_type": "code",
   "execution_count": 12,
   "id": "0c88397d",
   "metadata": {},
   "outputs": [
    {
     "name": "stdout",
     "output_type": "stream",
     "text": [
      "\n",
      "probability(n_toss=2) = {0: 0.25, 1: 0.5, 2: 0.25}\n",
      "\n"
     ]
    }
   ],
   "source": [
    "def probability(n_toss):\n",
    "    '''return a dictionary. The keys will be the possible number of heads in each game,\n",
    "    so they can't be over `n_toss` or under 0. The values for each of those keys will correspond\n",
    "    to the probability of a game ending with that result.\n",
    "    probability(5) = {0: ..., 1:..., 2:..., 3:..., 4:..., 5:...}'''\n",
    "    \n",
    "    count_heads_dict = {}\n",
    "    for n_heads in range(n_toss + 1):\n",
    "        proba = count_possibilities(n_toss, n_heads)\n",
    "        count_heads_dict[n_heads] = proba/count_total_possibilities(n_toss)\n",
    "    return count_heads_dict\n",
    "\n",
    "print(f\"\"\"\n",
    "{probability(n_toss=2) = }\n",
    "\"\"\")"
   ]
  },
  {
   "cell_type": "markdown",
   "id": "288067ee",
   "metadata": {},
   "source": [
    "<b>How do we compute the probability of getting <i>k</i> successes among <i>n</i> experiments  when $ p \\neq \\frac{1}{2} $</b> (<i>unfair coin</i>) ?\n",
    "\n",
    "Don't forget that:\n",
    "* the probability of success is $ \\large p$ and we want $k$ successes $ \\large \\Rightarrow \\underbrace{p \\times p \\times ... \\times p}_\\text{k successes} = p^k $\n",
    "    \n",
    "    \n",
    "* the probability of failure is $ \\large 1-p$ and we want $n-k$ failures $ \\large \\Rightarrow \\underbrace{(1-p) \\times (1-p) \\times ... \\times (1-p)}_\\text{n-k failures} = (1-p)^{n-k}$\n",
    "    \n",
    "* there are $ \\large \\binom{n}{k} = \\frac{n!}{k!(n-k)!} $ ways to obtain k successes among n experiments\n",
    "\n",
    "The desired probability is given by:\n",
    "\n",
    "$$ \\large \\mathbb{P} (X = k ) = \\binom{n}{k} p^k (1-p)^{n-k} $$\n",
    "    \n",
    "The formula also works  with $ p = \\frac{1}{2} $ and we have exactly what we computed in the previous function called `probability`:\n",
    "    \n",
    "$$ \\large \\mathbb{P} (X = k ) = \\frac{\\binom{n}{k}}{2^n} $$    \n",
    "\n",
    "Here are some [5 real life examples of the binomial distribution](https://www.statology.org/binomial-distribution-real-life-examples/)"
   ]
  },
  {
   "cell_type": "markdown",
   "id": "513d349c",
   "metadata": {},
   "source": [
    "### Plotting the Binomial distribution: what happens when we toss the coin many times ?"
   ]
  },
  {
   "cell_type": "markdown",
   "id": "da1f5ee0",
   "metadata": {},
   "source": [
    "Let's start by tossing the coin **4 times** as in the previous section.\n",
    "\n",
    "Using the `probability` function, plot the `distribution` of a 4-coin experiment in a **bar chart**"
   ]
  },
  {
   "cell_type": "code",
   "execution_count": 18,
   "id": "7f44ab48",
   "metadata": {},
   "outputs": [
    {
     "name": "stdout",
     "output_type": "stream",
     "text": [
      "distribution = {0: 0.0625, 1: 0.25, 2: 0.375, 3: 0.25, 4: 0.0625}\n",
      "\n",
      "possible_number_of_heads = dict_keys([0, 1, 2, 3, 4])\n",
      "respective_probabilities = dict_values([0.0625, 0.25, 0.375, 0.25, 0.0625])\n",
      "\n"
     ]
    },
    {
     "data": {
      "image/png": "[encoded data removed]",
      "text/plain": [
       "<Figure size 640x480 with 1 Axes>"
      ]
     },
     "metadata": {},
     "output_type": "display_data"
    }
   ],
   "source": [
    "# Computing the probabilites of getting 0, 1, 2, 3, 4 heads among 4 tosses\n",
    "\n",
    "n_toss = 4\n",
    "distribution = probability(n_toss)\n",
    "print(f\"\"\"{distribution = }\n",
    "\"\"\")\n",
    "\n",
    "\n",
    "# # Showing the distribution of this 4-coin experiment in a bar plot\n",
    "\n",
    "possible_number_of_heads = distribution.keys()\n",
    "respective_probabilities = distribution.values()\n",
    "\n",
    "print(f\"\"\"{possible_number_of_heads = }\n",
    "{respective_probabilities = }\n",
    "\"\"\")\n",
    "\n",
    "plt.bar(possible_number_of_heads, respective_probabilities, color = 'lightsteelblue');\n"
   ]
  },
  {
   "cell_type": "markdown",
   "id": "e32754d9",
   "metadata": {},
   "source": [
    "If you implemented your function correctly, you should visually see that:\n",
    "- the event _\"get 2 heads out of 4\"_ has the highest probability (37.5%) \n",
    "- the distribution is symmetrical\n",
    "- on average, you will get 2 heads"
   ]
  },
  {
   "cell_type": "markdown",
   "id": "3bfc24fc",
   "metadata": {},
   "source": [
    "Increase the number `n_toss` (1, 5, 10, 20, 30, ...) and  plot the distribution of a `n_toss`-coin experiment in a **bar chart**, using once again the `probability` function "
   ]
  },
  {
   "cell_type": "code",
   "execution_count": 21,
   "id": "a5027c69",
   "metadata": {},
   "outputs": [
    {
     "name": "stdout",
     "output_type": "stream",
     "text": [
      "possible_number_of_heads = dict_keys([0, 1])\n",
      "    \n",
      "respective_probabilities = dict_values([0.5, 0.5])\n",
      "\n"
     ]
    },
    {
     "data": {
      "image/png": "[encoded data removed]",
      "text/plain": [
       "<Figure size 640x480 with 1 Axes>"
      ]
     },
     "metadata": {},
     "output_type": "display_data"
    },
    {
     "data": {
      "text/plain": [
       "<Figure size 200x200 with 0 Axes>"
      ]
     },
     "metadata": {},
     "output_type": "display_data"
    },
    {
     "name": "stdout",
     "output_type": "stream",
     "text": [
      "possible_number_of_heads = dict_keys([0, 1, 2, 3, 4, 5])\n",
      "    \n",
      "respective_probabilities = dict_values([0.03125, 0.15625, 0.3125, 0.3125, 0.15625, 0.03125])\n",
      "\n"
     ]
    },
    {
     "data": {
      "image/png": "[encoded data removed]",
      "text/plain": [
       "<Figure size 640x480 with 1 Axes>"
      ]
     },
     "metadata": {},
     "output_type": "display_data"
    },
    {
     "data": {
      "text/plain": [
       "<Figure size 200x200 with 0 Axes>"
      ]
     },
     "metadata": {},
     "output_type": "display_data"
    },
    {
     "name": "stdout",
     "output_type": "stream",
     "text": [
      "possible_number_of_heads = dict_keys([0, 1, 2, 3, 4, 5, 6, 7, 8, 9, 10])\n",
      "    \n",
      "respective_probabilities = dict_values([0.0009765625, 0.009765625, 0.0439453125, 0.1171875, 0.205078125, 0.24609375, 0.205078125, 0.1171875, 0.0439453125, 0.009765625, 0.0009765625])\n",
      "\n"
     ]
    },
    {
     "data": {
      "image/png": "[encoded data removed]",
      "text/plain": [
       "<Figure size 640x480 with 1 Axes>"
      ]
     },
     "metadata": {},
     "output_type": "display_data"
    },
    {
     "data": {
      "text/plain": [
       "<Figure size 200x200 with 0 Axes>"
      ]
     },
     "metadata": {},
     "output_type": "display_data"
    },
    {
     "name": "stdout",
     "output_type": "stream",
     "text": [
      "possible_number_of_heads = dict_keys([0, 1, 2, 3, 4, 5, 6, 7, 8, 9, 10, 11, 12, 13, 14, 15, 16, 17, 18, 19, 20])\n",
      "    \n",
      "respective_probabilities = dict_values([9.5367431640625e-07, 1.9073486328125e-05, 0.0001811981201171875, 0.001087188720703125, 0.004620552062988281, 0.0147857666015625, 0.03696441650390625, 0.0739288330078125, 0.12013435363769531, 0.16017913818359375, 0.17619705200195312, 0.16017913818359375, 0.12013435363769531, 0.0739288330078125, 0.03696441650390625, 0.0147857666015625, 0.004620552062988281, 0.001087188720703125, 0.0001811981201171875, 1.9073486328125e-05, 9.5367431640625e-07])\n",
      "\n"
     ]
    },
    {
     "data": {
      "image/png": "[encoded data removed]",
      "text/plain": [
       "<Figure size 640x480 with 1 Axes>"
      ]
     },
     "metadata": {},
     "output_type": "display_data"
    },
    {
     "data": {
      "text/plain": [
       "<Figure size 200x200 with 0 Axes>"
      ]
     },
     "metadata": {},
     "output_type": "display_data"
    },
    {
     "name": "stdout",
     "output_type": "stream",
     "text": [
      "possible_number_of_heads = dict_keys([0, 1, 2, 3, 4, 5, 6, 7, 8, 9, 10, 11, 12, 13, 14, 15, 16, 17, 18, 19, 20, 21, 22, 23, 24, 25, 26, 27, 28, 29, 30])\n",
      "    \n",
      "respective_probabilities = dict_values([9.313225746154785e-10, 2.7939677238464355e-08, 4.0512531995773315e-07, 3.7811696529388428e-06, 2.552289515733719e-05, 0.00013271905481815338, 0.0005529960617423058, 0.0018959864974021912, 0.0054509611800313, 0.013324571773409843, 0.02798160072416067, 0.05087563768029213, 0.08055309299379587, 0.11153505183756351, 0.13543542008846998, 0.14446444809436798, 0.13543542008846998, 0.11153505183756351, 0.08055309299379587, 0.05087563768029213, 0.02798160072416067, 0.013324571773409843, 0.0054509611800313, 0.0018959864974021912, 0.0005529960617423058, 0.00013271905481815338, 2.552289515733719e-05, 3.7811696529388428e-06, 4.0512531995773315e-07, 2.7939677238464355e-08, 9.313225746154785e-10])\n",
      "\n"
     ]
    },
    {
     "data": {
      "image/png": "[encoded data removed]",
      "text/plain": [
       "<Figure size 640x480 with 1 Axes>"
      ]
     },
     "metadata": {},
     "output_type": "display_data"
    },
    {
     "data": {
      "text/plain": [
       "<Figure size 200x200 with 0 Axes>"
      ]
     },
     "metadata": {},
     "output_type": "display_data"
    }
   ],
   "source": [
    "list_of_n_toss = [1, 5, 10, 20, 30]\n",
    "\n",
    "for n_toss in list_of_n_toss:\n",
    "    \n",
    "    # Computing the probabilites of getting 0, 1, 2, ..., n_toss heads among 4 tosses\n",
    "    distribution = probability(n_toss)\n",
    "\n",
    "    possible_number_of_heads = distribution.keys()\n",
    "    respective_probabilities = distribution.values()\n",
    "    \n",
    "    print(f\"\"\"{possible_number_of_heads = }\n",
    "    \n",
    "{respective_probabilities = }\n",
    "\"\"\")\n",
    "    \n",
    "    plt.title(f\"Tossing {n_toss} coins\");\n",
    "    plt.bar(possible_number_of_heads, respective_probabilities, color = 'lightsteelblue');\n",
    "    plt.xlim((0-1, n_toss +1));\n",
    "    plt.figure(figsize = (2,2));\n",
    "    plt.show();    \n"
   ]
  },
  {
   "cell_type": "markdown",
   "id": "a19ee0bf",
   "metadata": {},
   "source": [
    "How does the probability distribution function evolve when you increase the number of experiments?\n",
    "\n",
    "If your implementation of the previous functions is correct, (the more coin flips you do =) **the more `n_toss` increases, the smoother the graph becomes**.         \n",
    "* It converges towards the famous “bell curve” *a.k.a.* the **`normal distribution`** "
   ]
  },
  {
   "cell_type": "markdown",
   "id": "687a6435",
   "metadata": {},
   "source": [
    "## The Geometric distribution"
   ]
  },
  {
   "cell_type": "markdown",
   "id": "6dceef0f",
   "metadata": {},
   "source": [
    "### Passing the driving license test"
   ]
  },
  {
   "cell_type": "markdown",
   "id": "3e8b9e05",
   "metadata": {},
   "source": [
    "Do you have your driving license ? You are probably aware that taking and passing this test is a juicy business... \n",
    "\n",
    "The success rate of each attempt is for example:\n",
    "* $ p_{FR} = 60 \\% $ in France\n",
    "* $ p_{UK} = 54.5 \\% $ in the UK\n",
    "\n",
    "You probably have friends who took the test two or three times before succeeding. \n",
    "\n",
    "What is the probability that a person living in the UK gets his/her driving license on the 2nd attempt"
   ]
  },
  {
   "cell_type": "code",
   "execution_count": 22,
   "id": "815944dc",
   "metadata": {},
   "outputs": [
    {
     "name": "stdout",
     "output_type": "stream",
     "text": [
      "The probability that a person living in the UK get his/her driving license after two attempts is 24.8 %\n"
     ]
    }
   ],
   "source": [
    "proba_uk = 0.545\n",
    "\n",
    "uk_two_attempts = (1 - proba_uk) * proba_uk\n",
    "\n",
    "print(f\"The probability that a person living in the UK get his/her driving license after two attempts is {round(uk_two_attempts,4)*100} %\")"
   ]
  },
  {
   "cell_type": "markdown",
   "id": "a29f9d8f",
   "metadata": {},
   "source": [
    "If a person needed two tests to pass the driving license, it means that he/she:\n",
    "- failed at the first attempt with probability $ 1 - p$\n",
    "- succeeded at the second attempt with probability $ p \\in [0,1]$\n",
    "\n",
    "assuming he/she didn't \"learn\" any lesson from the first failed attempt (!)"
   ]
  },
  {
   "cell_type": "markdown",
   "id": "a11112b1",
   "metadata": {},
   "source": [
    "### Modelling the first time of success (short reading section)"
   ]
  },
  {
   "cell_type": "markdown",
   "id": "63d55641",
   "metadata": {},
   "source": [
    "The goal of the **Geometric distribution** is the compute the <b>probability to succeed for the first time at the n<sup>th</sup> attempt </b>. This implies:\n",
    "- $ n - 1 $ failures, each of them with probability $ 1 - p  \\Rightarrow \\underbrace{(1-p) \\times (1-p) \\times ... \\times (1-p)}_\\text{n-1 failures} = (1-p)^{n-1}$\n",
    "- $ 1 $ unique success with probability $ p $\n",
    "\n",
    "Hence, if we denote by `X` the time of first success, and want to compute the probability of succeeding for the first time at the n<sup>th</sup> attempt </b>, we can use the following formula:\n",
    "\n",
    "$$ \\mathbb{P}(X=n) = (1-p)^{n-1} \\times p $$"
   ]
  },
  {
   "cell_type": "markdown",
   "id": "938c77c4",
   "metadata": {},
   "source": [
    "### Application"
   ]
  },
  {
   "cell_type": "markdown",
   "id": "001fd290",
   "metadata": {},
   "source": [
    "Create a function `probability_first_time` which returns the probability of succeeding for the first time  at the n<sup>th</sup> attempt </b> based in a probability of success $p$ "
   ]
  },
  {
   "cell_type": "code",
   "execution_count": 28,
   "id": "33a21043",
   "metadata": {},
   "outputs": [
    {
     "name": "stdout",
     "output_type": "stream",
     "text": [
      "\n",
      "probability_first_time(p=0.5, n=1) = 0.5\n",
      "\n"
     ]
    }
   ],
   "source": [
    "def probability_first_time(p, n):\n",
    "    ''' returns the probability of succeeding at the n-th attempt'''\n",
    "    if n <=0:\n",
    "        return None \n",
    "    else:\n",
    "        return ((1-p)**(n-1))*p\n",
    "    \n",
    "print(f\"\"\"\n",
    "{probability_first_time(p=0.5, n=1) = }\n",
    "\"\"\")"
   ]
  },
  {
   "cell_type": "markdown",
   "id": "085cdbc2",
   "metadata": {},
   "source": [
    "Let's vizualize the probabilities of the driving license test in the UK.\n",
    "\n",
    "Plot in a **bar chart** the (decreasing) probabilities of succedding after the 1<sup>st</sup> attempt, the <sup>2nd</sup> attempt, the <sup>3rd</sup> attempt, the <sup>4th</sup> attempt, the <sup>5th</sup> attempt \n"
   ]
  },
  {
   "cell_type": "code",
   "execution_count": 29,
   "id": "4d08cb5f",
   "metadata": {},
   "outputs": [
    {
     "data": {
      "text/plain": [
       "{1: 0.545,\n",
       " 2: 0.247975,\n",
       " 3: 0.11282862499999999,\n",
       " 4: 0.05133702437499999,\n",
       " 5: 0.023358346090624996}"
      ]
     },
     "execution_count": 29,
     "metadata": {},
     "output_type": "execute_result"
    }
   ],
   "source": [
    "maximal_number_of_attempts = 5\n",
    "driving_license_uk = {k: probability_first_time(proba_uk, k) for k in range(1,maximal_number_of_attempts + 1)}\n",
    "driving_license_uk"
   ]
  },
  {
   "cell_type": "code",
   "execution_count": 30,
   "id": "404fb4dd",
   "metadata": {},
   "outputs": [
    {
     "data": {
      "image/png": "[encoded data removed]",
      "text/plain": [
       "<Figure size 640x480 with 1 Axes>"
      ]
     },
     "metadata": {},
     "output_type": "display_data"
    }
   ],
   "source": [
    "possible_number_of_attemps = driving_license_uk.keys()\n",
    "associated_probabilities = driving_license_uk.values()\n",
    "plt.bar(possible_number_of_attemps, associated_probabilities, color = 'lightgreen');"
   ]
  },
  {
   "cell_type": "markdown",
   "id": "8014852a",
   "metadata": {},
   "source": [
    "You should see an *exponential* decrease of probabilities    \n",
    "* The probability of triumphing the first practical driving test is approx 55%\n",
    "* The probability of failing the first one and succeeding in the second one is approx 25%\n",
    "* The probability of failing the first and the second ones and succeeding only in the third one is approx 11%"
   ]
  },
  {
   "cell_type": "markdown",
   "id": "8772a556",
   "metadata": {},
   "source": [
    "## Other distributions and conclusion (just a short reading section)"
   ]
  },
  {
   "cell_type": "markdown",
   "id": "9f77ccd3",
   "metadata": {},
   "source": [
    "<b><u>Discrete Random Variable</u></b>\n",
    "\n",
    "A Random Variable is qualified as **discrete** when its outcome can be \"counted with your fingers\":\n",
    "\n",
    "Here are some examples of discrete random variables:\n",
    "* Success (1) or Failure (0)\n",
    "* Number of successes\n",
    "* First time of success\n",
    "* Goals scored during a football game\n",
    "* Outcome of rolling a dice\n",
    "* Number of tickets raised by a student during the bootcamp\n",
    "* ...\n",
    "\n",
    "There are plenty of classic discrete distributions and we've already covered three of them: `Bernouli(p)`, `Binomial(n,p)`, `Geometric(p)` \n",
    "\n",
    "_Here is an 8-min-read article that you could look into a bit later:_ [Probability Distributions with real life exemples](https://medium.datadriveninvestor.com/probability-distributions-with-real-life-examples-55d054f663a7)"
   ]
  },
  {
   "cell_type": "markdown",
   "id": "751b3d60",
   "metadata": {},
   "source": [
    "<b><u>Continuous Random Variable</u></b>\n",
    "\n",
    "A Random Variable is qualified as **continuous** when... it is not discrete, to keep things simple!\n",
    "\n",
    "Here are some examples of continous random variables:\n",
    "* the temperature in 1 week\n",
    "* the percentages of votes for a political party in the next election\n",
    "* the stock price of a listed company in two years\n",
    "* the average IQ in a sampled population\n",
    "* ...\n",
    "\n",
    "The most famous continuous probability distribution used in Data Science and in life in general is the **`Gaussian Distribution`** $ \\mathcal{N} (\\mu, \\sigma) $. \n",
    "\n",
    "Many features on this planet  have a bell-shaped curve: \n",
    "* the height of  human beings\n",
    "* the weight of new-borns\n",
    "* the IQ\n",
    "* the average retirement age for NFL players\n",
    "* the blood pressure\n",
    "* ...\n",
    "\n",
    "But why does the Gaussian Distribution appear to model so many physical phenomena ??\n",
    "\n",
    "\n",
    "Because lots of macro-phenomena are the results of a sum (or mean) of independent processes!  \n",
    "    \n",
    "And the **Central Limit Theorem** tells us that sum of random variable converges towards the normal distribution!\n",
    "(more on that in next challenge!)\n",
    "\n",
    "<br>\n",
    "\n",
    "There are many continuous probability distributions out there but it is completely out of the scope of the bootcamp.  \n",
    "So please **stay focused on the Gaussian distribution** during the next weeks "
   ]
  },
  {
   "cell_type": "markdown",
   "id": "6a3935d0",
   "metadata": {},
   "source": []
  }
 ],
 "metadata": {
  "kernelspec": {
   "display_name": "Python 3 (ipykernel)",
   "language": "python",
   "name": "python3"
  },
  "language_info": {
   "codemirror_mode": {
    "name": "ipython",
    "version": 3
   },
   "file_extension": ".py",
   "mimetype": "text/x-python",
   "name": "python",
   "nbconvert_exporter": "python",
   "pygments_lexer": "ipython3",
   "version": "3.10.6"
  },
  "toc": {
   "base_numbering": 1,
   "nav_menu": {},
   "number_sections": true,
   "sideBar": true,
   "skip_h1_title": false,
   "title_cell": "Table of Contents",
   "title_sidebar": "Contents",
   "toc_cell": false,
   "toc_position": {},
   "toc_section_display": true,
   "toc_window_display": false
  }
 },
 "nbformat": 4,
 "nbformat_minor": 5
}
